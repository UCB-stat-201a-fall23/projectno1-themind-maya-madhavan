{
 "cells": [
  {
   "cell_type": "markdown",
   "metadata": {
    "user_expressions": []
   },
   "source": [
    "## Project No1 - The Mind\n",
    "\n",
    "Refer to the `README.md` for further information about how to play the game and the objectives for this first project. \n",
    "\n",
    "When writing code, we recommend you to be as modular as possible. For example, if you are running multiple experiments for different choices of parameters, it may be convenient to write a function that does one experiment and then make multiple calls to the same function. Follow the _do not repeat yourself_ rule when writing code! "
   ]
  },
  {
   "cell_type": "code",
   "execution_count": 1,
   "metadata": {},
   "outputs": [],
   "source": [
    "import numpy as np\n",
    "import matplotlib.pyplot as plt\n",
    "import seaborn as sns\n",
    "from scipy.stats import beta\n",
    "import math"
   ]
  },
  {
   "cell_type": "markdown",
   "metadata": {
    "user_expressions": []
   },
   "source": [
    "Let's start by creating a function that generates one sample of the game. Feel free to change this code as you find it suitable, for example by changing how the sampling is created or if you want to sample cards with replacement (this could be useful for the last questions)."
   ]
  },
  {
   "cell_type": "code",
   "execution_count": 2,
   "metadata": {},
   "outputs": [],
   "source": [
    "def sample_cards(N, n, k):\n",
    "    \"\"\"\n",
    "    Generates a simulated sample of how the cards are shuffled among players. \n",
    "    \n",
    "    Arguments: \n",
    "        - N : Total number of cards\n",
    "        - n : Number of players\n",
    "        - k : Number of cards per player\n",
    "        \n",
    "    Returns: \n",
    "        - 2D numpy array where each row represent each player and each column their card in ascending order. \n",
    "    \"\"\"\n",
    "    \n",
    "    assert n * k <= N, \"There are not enough cards for all the players!\"\n",
    "    \n",
    "    _cards = np.random.choice(a=np.arange(1, N+1), size=n*k, replace=False)\n",
    "    _cards = _cards.reshape(n,k)\n",
    "    _cards.sort(axis=1)\n",
    "    return _cards"
   ]
  },
  {
   "cell_type": "markdown",
   "metadata": {
    "user_expressions": []
   },
   "source": [
    "Now we can just generate how cards are distributed among players by simply making a call to this function with the desired parameters. "
   ]
  },
  {
   "cell_type": "code",
   "execution_count": 3,
   "metadata": {},
   "outputs": [
    {
     "data": {
      "text/plain": [
       "array([[ 25,  81,  92],\n",
       "       [ 35,  76,  80],\n",
       "       [ 11,  58,  86],\n",
       "       [  6,  95, 100],\n",
       "       [ 34,  57,  96],\n",
       "       [  1,  18,  50]])"
      ]
     },
     "execution_count": 3,
     "metadata": {},
     "output_type": "execute_result"
    }
   ],
   "source": [
    "cards = sample_cards(100, 6, 3)\n",
    "cards"
   ]
  },
  {
   "cell_type": "markdown",
   "metadata": {
    "user_expressions": []
   },
   "source": [
    "and access the cards of each player with "
   ]
  },
  {
   "cell_type": "code",
   "execution_count": 4,
   "metadata": {},
   "outputs": [
    {
     "data": {
      "text/plain": [
       "(array([25, 81, 92]), array([35, 76, 80]))"
      ]
     },
     "execution_count": 4,
     "metadata": {},
     "output_type": "execute_result"
    }
   ],
   "source": [
    "player0 = cards[0,:]\n",
    "player1 = cards[1,:]\n",
    "player0, player1"
   ]
  },
  {
   "cell_type": "markdown",
   "metadata": {
    "user_expressions": []
   },
   "source": [
    "The lowest card in the game is"
   ]
  },
  {
   "cell_type": "code",
   "execution_count": 5,
   "metadata": {},
   "outputs": [
    {
     "data": {
      "text/plain": [
       "1"
      ]
     },
     "execution_count": 5,
     "metadata": {},
     "output_type": "execute_result"
    }
   ],
   "source": [
    "np.min(cards)"
   ]
  },
  {
   "cell_type": "code",
   "execution_count": 6,
   "metadata": {},
   "outputs": [
    {
     "data": {
      "text/plain": [
       "array([1, 2, 3, 4])"
      ]
     },
     "execution_count": 6,
     "metadata": {},
     "output_type": "execute_result"
    }
   ],
   "source": [
    "np.arange(1, 5)"
   ]
  },
  {
   "cell_type": "markdown",
   "metadata": {
    "user_expressions": []
   },
   "source": [
    "### 1. What is the distribution of the lowest number? \n",
    "\n",
    "Repeat the sampling of the cards multiple times for the same choice of `N`, `n` and `k` and plot the distribution of the lowest number in the sample. Use an [histogram](https://matplotlib.org/stable/api/_as_gen/matplotlib.pyplot.hist.html) to plot the distribution and set the bins to be the available integer number cards. "
   ]
  },
  {
   "cell_type": "code",
   "execution_count": 7,
   "metadata": {},
   "outputs": [],
   "source": [
    "my_samples = []\n",
    "min_sample = []\n",
    "N = 100\n",
    "n = 6\n",
    "k = 3\n",
    "n_sims = 10000\n",
    "\n",
    "for a in range(1,n_sims):\n",
    "    my_samples.append(sample_cards(N, n, k))\n",
    "\n",
    "for a in my_samples:\n",
    "    min_sample.append(np.min(a))"
   ]
  },
  {
   "cell_type": "code",
   "execution_count": 8,
   "metadata": {},
   "outputs": [],
   "source": [
    "#min_sample"
   ]
  },
  {
   "cell_type": "code",
   "execution_count": 9,
   "metadata": {},
   "outputs": [
    {
     "data": {
      "text/plain": [
       "Text(0.5, 1.0, 'Distribution of Lowest Number')"
      ]
     },
     "execution_count": 9,
     "metadata": {},
     "output_type": "execute_result"
    },
    {
     "data": {
      "image/png": "[encoded data removed]",
      "text/plain": [
       "<Figure size 432x288 with 1 Axes>"
      ]
     },
     "metadata": {},
     "output_type": "display_data"
    }
   ],
   "source": [
    "plt.hist(min_sample, bins=np.arange(1,101))\n",
    "plt.xlabel('Min Number Per Sample')\n",
    "plt.ylabel('N Games')\n",
    "plt.title('Distribution of Lowest Number')"
   ]
  },
  {
   "cell_type": "markdown",
   "metadata": {
    "user_expressions": []
   },
   "source": [
    "### 2. What is the distribution of the largest gap?\n",
    "\n",
    "For each simulation, found the largest distance between consecutive numbers in the game. To make this easy, let us first consider the largest gap among the pool of **all** the cards among players (if the largest gap is happening in the hand of one single player, that is ok). This will make the analysis more simple. "
   ]
  },
  {
   "cell_type": "code",
   "execution_count": 10,
   "metadata": {},
   "outputs": [],
   "source": [
    "def all_players_gap(N,n,k):\n",
    "    cards = sample_cards(N,n,k)\n",
    "    sorted_cards = sorted(np.concatenate(cards))\n",
    "\n",
    "    diff = [sorted_cards[n]-sorted_cards[n-1] for n in range(1,len(sorted_cards))]\n",
    "\n",
    "    gap_non_unique = np.array(diff)\n",
    "    \n",
    "    return gap_non_unique"
   ]
  },
  {
   "cell_type": "code",
   "execution_count": 11,
   "metadata": {},
   "outputs": [],
   "source": [
    "max_values_all_players = []\n",
    "mean_vals_all_players= []\n",
    "\n",
    "for a in range(1,n_sims):\n",
    "    gap_unique = all_players_gap(100, n, k)\n",
    "    max_values_all_players.append(np.max(gap_unique))\n",
    "    mean_vals_all_players.append(np.mean(gap_unique))"
   ]
  },
  {
   "cell_type": "code",
   "execution_count": 12,
   "metadata": {},
   "outputs": [
    {
     "data": {
      "text/plain": [
       "(array([0.00000000e+00, 0.00000000e+00, 0.00000000e+00, 0.00000000e+00,\n",
       "        0.00000000e+00, 1.00010001e-04, 2.00020002e-04, 1.50015002e-03,\n",
       "        6.40064006e-03, 1.85018502e-02, 4.42044204e-02, 6.82068207e-02,\n",
       "        8.87088709e-02, 9.56095610e-02, 1.05210521e-01, 1.00810081e-01,\n",
       "        8.84088409e-02, 7.44074407e-02, 6.24062406e-02, 5.28052805e-02,\n",
       "        4.04040404e-02, 3.55035504e-02, 2.77027703e-02, 2.15021502e-02,\n",
       "        1.54015402e-02, 1.26012601e-02, 9.10091009e-03, 5.50055006e-03,\n",
       "        5.20052005e-03, 5.80058006e-03, 3.60036004e-03, 2.70027003e-03,\n",
       "        1.50015002e-03, 1.30013001e-03, 1.50015002e-03, 1.10011001e-03,\n",
       "        9.00090009e-04, 4.00040004e-04, 2.00020002e-04, 2.00020002e-04,\n",
       "        0.00000000e+00, 1.00010001e-04, 0.00000000e+00, 1.00010001e-04,\n",
       "        1.00010001e-04, 0.00000000e+00, 1.00010001e-04, 0.00000000e+00,\n",
       "        0.00000000e+00, 0.00000000e+00, 0.00000000e+00, 0.00000000e+00,\n",
       "        0.00000000e+00, 0.00000000e+00, 0.00000000e+00, 0.00000000e+00,\n",
       "        0.00000000e+00, 0.00000000e+00, 0.00000000e+00, 0.00000000e+00,\n",
       "        0.00000000e+00, 0.00000000e+00, 0.00000000e+00, 0.00000000e+00,\n",
       "        0.00000000e+00, 0.00000000e+00, 0.00000000e+00, 0.00000000e+00,\n",
       "        0.00000000e+00, 0.00000000e+00, 0.00000000e+00, 0.00000000e+00,\n",
       "        0.00000000e+00, 0.00000000e+00, 0.00000000e+00, 0.00000000e+00,\n",
       "        0.00000000e+00, 0.00000000e+00, 0.00000000e+00, 0.00000000e+00,\n",
       "        0.00000000e+00, 0.00000000e+00, 0.00000000e+00, 0.00000000e+00,\n",
       "        0.00000000e+00, 0.00000000e+00, 0.00000000e+00, 0.00000000e+00,\n",
       "        0.00000000e+00, 0.00000000e+00, 0.00000000e+00, 0.00000000e+00,\n",
       "        0.00000000e+00, 0.00000000e+00, 0.00000000e+00, 0.00000000e+00,\n",
       "        0.00000000e+00, 0.00000000e+00, 0.00000000e+00]),\n",
       " array([  1,   2,   3,   4,   5,   6,   7,   8,   9,  10,  11,  12,  13,\n",
       "         14,  15,  16,  17,  18,  19,  20,  21,  22,  23,  24,  25,  26,\n",
       "         27,  28,  29,  30,  31,  32,  33,  34,  35,  36,  37,  38,  39,\n",
       "         40,  41,  42,  43,  44,  45,  46,  47,  48,  49,  50,  51,  52,\n",
       "         53,  54,  55,  56,  57,  58,  59,  60,  61,  62,  63,  64,  65,\n",
       "         66,  67,  68,  69,  70,  71,  72,  73,  74,  75,  76,  77,  78,\n",
       "         79,  80,  81,  82,  83,  84,  85,  86,  87,  88,  89,  90,  91,\n",
       "         92,  93,  94,  95,  96,  97,  98,  99, 100]),\n",
       " <BarContainer object of 99 artists>)"
      ]
     },
     "execution_count": 12,
     "metadata": {},
     "output_type": "execute_result"
    },
    {
     "data": {
      "image/png": "[encoded data removed]",
      "text/plain": [
       "<Figure size 432x288 with 1 Axes>"
      ]
     },
     "metadata": {},
     "output_type": "display_data"
    }
   ],
   "source": [
    "plt.hist(max_values_all_players, density=True, bins=np.arange(1,101))"
   ]
  },
  {
   "cell_type": "markdown",
   "metadata": {
    "user_expressions": []
   },
   "source": [
    "Repeat the experiment but know compute the largest gap between cards of different players. This is the gap that actually matters for the purposes of the game: what is the maximum number of numbers that a player will have to wait before playing the next card?"
   ]
  },
  {
   "cell_type": "code",
   "execution_count": 13,
   "metadata": {},
   "outputs": [],
   "source": [
    "def diff_players_gap(N, n, k):\n",
    "    cards = sample_cards(N,n,k)\n",
    "    player_ids = np.tile(np.arange(1, n+1), (k+1)).T\n",
    "    \n",
    "    flat_cards, flat_ids = cards.flatten(), player_ids.flatten()\n",
    "    order_ids = np.argsort(flat_cards)\n",
    "    \n",
    "    gap_cards = np.diff(flat_cards[order_ids])\n",
    "\n",
    "    gap_ids = np.diff(flat_ids[order_ids])\n",
    "    \n",
    "    gap_unique = gap_cards * (gap_ids != 0)\n",
    "    \n",
    "    return gap_unique"
   ]
  },
  {
   "cell_type": "code",
   "execution_count": 14,
   "metadata": {},
   "outputs": [],
   "source": [
    "max_values = []\n",
    "mean_values = []\n",
    "\n",
    "for a in range(1,n_sims):\n",
    "    gap_unique = diff_players_gap(100, n, k)\n",
    "    max_values.append(np.max(gap_unique))\n",
    "    mean_values.append(np.mean(gap_unique))"
   ]
  },
  {
   "cell_type": "code",
   "execution_count": 15,
   "metadata": {},
   "outputs": [
    {
     "data": {
      "text/plain": [
       "(array([0.000e+00, 0.000e+00, 0.000e+00, 1.000e+00, 0.000e+00, 1.500e+01,\n",
       "        4.800e+01, 1.140e+02, 2.500e+02, 4.680e+02, 6.170e+02, 8.360e+02,\n",
       "        9.270e+02, 1.003e+03, 9.870e+02, 8.000e+02, 7.740e+02, 6.280e+02,\n",
       "        5.270e+02, 4.410e+02, 3.400e+02, 2.800e+02, 1.990e+02, 1.960e+02,\n",
       "        1.390e+02, 1.100e+02, 5.600e+01, 5.500e+01, 3.100e+01, 3.200e+01,\n",
       "        2.700e+01, 2.700e+01, 2.100e+01, 7.000e+00, 1.200e+01, 1.200e+01,\n",
       "        9.000e+00, 3.000e+00, 1.000e+00, 0.000e+00, 0.000e+00, 1.000e+00,\n",
       "        4.000e+00, 1.000e+00, 0.000e+00, 0.000e+00, 0.000e+00, 0.000e+00,\n",
       "        0.000e+00, 0.000e+00, 0.000e+00, 0.000e+00, 0.000e+00, 0.000e+00,\n",
       "        0.000e+00, 0.000e+00, 0.000e+00, 0.000e+00, 0.000e+00, 0.000e+00,\n",
       "        0.000e+00, 0.000e+00, 0.000e+00, 0.000e+00, 0.000e+00, 0.000e+00,\n",
       "        0.000e+00, 0.000e+00, 0.000e+00, 0.000e+00, 0.000e+00, 0.000e+00,\n",
       "        0.000e+00, 0.000e+00, 0.000e+00, 0.000e+00, 0.000e+00, 0.000e+00,\n",
       "        0.000e+00, 0.000e+00, 0.000e+00, 0.000e+00, 0.000e+00, 0.000e+00,\n",
       "        0.000e+00, 0.000e+00, 0.000e+00, 0.000e+00, 0.000e+00, 0.000e+00,\n",
       "        0.000e+00, 0.000e+00, 0.000e+00, 0.000e+00, 0.000e+00, 0.000e+00,\n",
       "        0.000e+00, 0.000e+00, 0.000e+00]),\n",
       " array([  1,   2,   3,   4,   5,   6,   7,   8,   9,  10,  11,  12,  13,\n",
       "         14,  15,  16,  17,  18,  19,  20,  21,  22,  23,  24,  25,  26,\n",
       "         27,  28,  29,  30,  31,  32,  33,  34,  35,  36,  37,  38,  39,\n",
       "         40,  41,  42,  43,  44,  45,  46,  47,  48,  49,  50,  51,  52,\n",
       "         53,  54,  55,  56,  57,  58,  59,  60,  61,  62,  63,  64,  65,\n",
       "         66,  67,  68,  69,  70,  71,  72,  73,  74,  75,  76,  77,  78,\n",
       "         79,  80,  81,  82,  83,  84,  85,  86,  87,  88,  89,  90,  91,\n",
       "         92,  93,  94,  95,  96,  97,  98,  99, 100]),\n",
       " <BarContainer object of 99 artists>)"
      ]
     },
     "execution_count": 15,
     "metadata": {},
     "output_type": "execute_result"
    },
    {
     "data": {
      "image/png": "[encoded data removed]",
      "text/plain": [
       "<Figure size 432x288 with 1 Axes>"
      ]
     },
     "metadata": {},
     "output_type": "display_data"
    }
   ],
   "source": [
    "plt.hist(max_values, bins=np.arange(1,101))"
   ]
  },
  {
   "cell_type": "markdown",
   "metadata": {
    "user_expressions": []
   },
   "source": [
    "How does these compare? Run simulations for different choices of the number of cards and players and see when the difference between these two is larger. \n",
    "\n",
    "Compute the mean of the two distributions. When this difference is larger? How does this depends of the total number of players `n`?"
   ]
  },
  {
   "cell_type": "code",
   "execution_count": 17,
   "metadata": {},
   "outputs": [],
   "source": [
    "means_diff = []\n",
    "\n",
    "for players in range(3, 15, 1):\n",
    "    max_cards_unique = []\n",
    "    max_cards_non_unique = []\n",
    "    for a in range(1,n_sims):\n",
    "        gap_non_unique = all_players_gap(100, players, k)\n",
    "        gap_unique = diff_players_gap(100, players, k)\n",
    "\n",
    "        max_cards_unique.append(np.max(gap_unique))\n",
    "        max_cards_non_unique.append(np.max(gap_non_unique))\n",
    "        \n",
    "    means_diff.append((players, np.mean(max_cards_non_unique), np.mean(max_cards_unique)))"
   ]
  },
  {
   "cell_type": "code",
   "execution_count": 18,
   "metadata": {},
   "outputs": [],
   "source": [
    "#n_sims\n",
    "#means_diff"
   ]
  },
  {
   "cell_type": "code",
   "execution_count": 19,
   "metadata": {},
   "outputs": [
    {
     "data": {
      "image/png": "[encoded data removed]",
      "text/plain": [
       "<Figure size 432x288 with 1 Axes>"
      ]
     },
     "metadata": {},
     "output_type": "display_data"
    }
   ],
   "source": [
    "x = [item[0] for item in means_diff]\n",
    "y1 = [item[1] for item in means_diff]\n",
    "y2 = [item[2] for item in means_diff]\n",
    "\n",
    "\n",
    "plt.plot(x, y1, label='Non Unique Difference', marker='o')\n",
    "plt.plot(x, y2, label='Unique Difference', marker='x')\n",
    "\n",
    "plt.xlabel('N Players')\n",
    "plt.ylabel('Mean')\n",
    "plt.legend()\n",
    "\n",
    "plt.show()"
   ]
  },
  {
   "cell_type": "markdown",
   "metadata": {
    "user_expressions": []
   },
   "source": [
    "### 3. Deriving distributions\n",
    "\n",
    "For this section, we are going to use the random sampling generating process from _The Mind_ to investigate and find some familiar distributions."
   ]
  },
  {
   "cell_type": "markdown",
   "metadata": {
    "user_expressions": []
   },
   "source": [
    "### 3.1. Binomial Distribution \n",
    "\n",
    "Can you think about any way of deriving the binomial distribution? Based on the output of one single game (function `sample_game()`), try to derive something that has Binomial distribution for certain parameter $p$. Run multiple simulations to see this and compare the obtained empirical distribution with the distribution of the binomial distribution (check `numpy.random.binomial` and `scipy.stats.binom`). "
   ]
  },
  {
   "cell_type": "code",
   "execution_count": 20,
   "metadata": {},
   "outputs": [],
   "source": [
    "def sample_game(N, n, k):\n",
    "    game = sample_cards(N, n, k)\n",
    "    results = []\n",
    "    for i in range(n):\n",
    "        if np.mean(game[i]) <= N/2:\n",
    "            results.append(0)\n",
    "        else:\n",
    "            results.append(1)\n",
    "    return results"
   ]
  },
  {
   "cell_type": "code",
   "execution_count": 21,
   "metadata": {},
   "outputs": [],
   "source": [
    "binom_sims = []\n",
    "for a in range(1,n_sims):\n",
    "    binom_sims.append(sum(sample_game(N, n, k)))"
   ]
  },
  {
   "cell_type": "code",
   "execution_count": 22,
   "metadata": {},
   "outputs": [
    {
     "data": {
      "text/plain": [
       "Text(0.5, 1.0, 'Binomial Simulation')"
      ]
     },
     "execution_count": 22,
     "metadata": {},
     "output_type": "execute_result"
    },
    {
     "data": {
      "image/png": "[encoded data removed]",
      "text/plain": [
       "<Figure size 432x288 with 1 Axes>"
      ]
     },
     "metadata": {},
     "output_type": "display_data"
    }
   ],
   "source": [
    "plt.hist(binom_sims, bins=6)\n",
    "plt.xlabel('N Success')\n",
    "plt.ylabel('Proportion')\n",
    "plt.title('Binomial Simulation')"
   ]
  },
  {
   "cell_type": "code",
   "execution_count": 23,
   "metadata": {},
   "outputs": [],
   "source": [
    "p = 0.5\n",
    "binomial_simulation = np.random.binomial(n, p, size=n_sims)"
   ]
  },
  {
   "cell_type": "code",
   "execution_count": 24,
   "metadata": {},
   "outputs": [
    {
     "data": {
      "text/plain": [
       "Text(0.5, 1.0, 'Binomial Distribution')"
      ]
     },
     "execution_count": 24,
     "metadata": {},
     "output_type": "execute_result"
    },
    {
     "data": {
      "image/png": "[encoded data removed]",
      "text/plain": [
       "<Figure size 432x288 with 1 Axes>"
      ]
     },
     "metadata": {},
     "output_type": "display_data"
    }
   ],
   "source": [
    "plt.hist(binomial_simulation, bins=6)\n",
    "plt.xlabel('N Success')\n",
    "plt.ylabel('Probability')\n",
    "plt.title('Binomial Distribution')"
   ]
  },
  {
   "cell_type": "markdown",
   "metadata": {
    "user_expressions": []
   },
   "source": [
    "### 3.2. Beta Distribution\n",
    "\n",
    "The [order statistics](https://en.wikipedia.org/wiki/Order_statistic) of the uniform distribution are such that follow a Beta distribution. If well here we are not exactly sampling real numbers in $[0,1]$ following the uniform distribution, you can imagine that sampling one single number without repetition from $\\{ 1, 2, 3, \\ldots, N \\}$ is not very different...\n",
    "\n",
    "Compare the distribution of the lowest number in the sample (Part 1) with a [Beta distribution](https://en.wikipedia.org/wiki/Beta_distribution) with adequate choices of parameters. In order to do this, notice that the $k$th order statistics of a sample of $n$ uniformly distributed points in $[0,1]$ is $\\text{Beta}(k, n+1-k)$ (These $n$ and $k$ are not the same as before, you need to pick the right values of these)."
   ]
  },
  {
   "cell_type": "code",
   "execution_count": 25,
   "metadata": {},
   "outputs": [],
   "source": [
    "a = 1\n",
    "b = 18\n",
    "random_samples = beta.rvs(a, b, size=n_sims)"
   ]
  },
  {
   "cell_type": "code",
   "execution_count": 26,
   "metadata": {},
   "outputs": [
    {
     "data": {
      "text/plain": [
       "Text(0.5, 1.0, 'Distribution of Lowest Number vs Beta')"
      ]
     },
     "execution_count": 26,
     "metadata": {},
     "output_type": "execute_result"
    },
    {
     "data": {
      "image/png": "[encoded data removed]",
      "text/plain": [
       "<Figure size 432x288 with 1 Axes>"
      ]
     },
     "metadata": {},
     "output_type": "display_data"
    }
   ],
   "source": [
    "x = np.linspace(0, 1, 1000)\n",
    "pdf_values = beta.pdf(x, a, b)\n",
    "\n",
    "plt.hist(np.array(min_sample)/N, density=True, bins=np.arange(0,1,1/100))\n",
    "plt.plot(x, pdf_values, 'r-', lw=2, label=f'Beta PDF (a={a}, b={b})')\n",
    "plt.xlim(0,0.5)\n",
    "plt.title('Distribution of Lowest Number vs Beta')"
   ]
  },
  {
   "cell_type": "markdown",
   "metadata": {
    "user_expressions": []
   },
   "source": [
    "### 3.3. Exponential Distribution\n",
    "\n",
    "If we call $U_1$ the minimum number in the sample (Part 1), then make an histogram with the distribution of the transformed random variable given by \n",
    "$$\n",
    "X = - \\ln \\left( 1 - \\frac{U_1}{N} \\right)\n",
    "$$\n",
    "and compare this with the distribution of an exponential random variable with parameter $nk$, the total number of cards in the game. "
   ]
  },
  {
   "cell_type": "code",
   "execution_count": 27,
   "metadata": {},
   "outputs": [],
   "source": [
    "X = -np.log(1-(np.array(min_sample)/N))\n",
    "\n",
    "exp_lambda = n*k\n",
    "random_samples = np.random.exponential(scale=1/exp_lambda, size=n_sims)"
   ]
  },
  {
   "cell_type": "code",
   "execution_count": 28,
   "metadata": {},
   "outputs": [
    {
     "data": {
      "image/png": "[encoded data removed]",
      "text/plain": [
       "<Figure size 432x288 with 1 Axes>"
      ]
     },
     "metadata": {},
     "output_type": "display_data"
    }
   ],
   "source": [
    "x = np.linspace(0, 10, 1000)\n",
    "pdf_values = exp_lambda * np.exp(-exp_lambda * x)\n",
    "\n",
    "plt.hist(X, density=True, bins=np.arange(0,.4,1/100))\n",
    "plt.plot(x, pdf_values, 'r-', lw=2, label=f'Exponential PDF (λ={exp_lambda})')\n",
    "plt.xlim(0,0.5)\n",
    "plt.xlabel('x')\n",
    "plt.ylabel('Frequency / PDF')\n",
    "plt.legend()\n",
    "plt.title('Exponential Distribution Histogram and PDF')\n",
    "plt.show()"
   ]
  },
  {
   "cell_type": "markdown",
   "metadata": {
    "user_expressions": []
   },
   "source": [
    "### 4. What happens when $n * k << N$?\n",
    "\n",
    "Some of the distribution we saw in previous sections are just approximate. Study what happens when we increase the number of cards. Try to understand how the cases of sampling with and without reposition compare as $n * k << N$. What do you expect to see in these cases? When the difference between the two sampling strategies will lead to similar or different results. \n",
    "\n",
    "**Ans: As n increases, the distribution of the simulation gets closer to the true distribution**"
   ]
  },
  {
   "cell_type": "code",
   "execution_count": 29,
   "metadata": {},
   "outputs": [
    {
     "data": {
      "image/png": "[encoded data removed]",
      "text/plain": [
       "<Figure size 432x288 with 1 Axes>"
      ]
     },
     "metadata": {},
     "output_type": "display_data"
    }
   ],
   "source": [
    "parameter_alpha = 1\n",
    "parameter_beta = 18\n",
    "\n",
    "numb = np.linspace(0, 1, 1000)\n",
    "pdf = beta.pdf(numb, parameter_alpha, parameter_beta)\n",
    "\n",
    "plt.hist(np.array(min_sample)/100, density=True, bins=np.arange(0.005,1.005,1/100))\n",
    "plt.plot(numb, pdf, label=f'Beta({parameter_alpha}, {parameter_beta})')\n",
    "plt.xlim(0,1)\n",
    "plt.title('The Mind game - N=100')\n",
    "\n",
    "plt.show()"
   ]
  },
  {
   "cell_type": "code",
   "execution_count": 30,
   "metadata": {},
   "outputs": [
    {
     "data": {
      "image/png": "[encoded data removed]",
      "text/plain": [
       "<Figure size 432x288 with 1 Axes>"
      ]
     },
     "metadata": {},
     "output_type": "display_data"
    }
   ],
   "source": [
    "my_samples_1000 = []\n",
    "min_sample_1000 = []\n",
    "\n",
    "for a in range(1,100000): \n",
    "    my_samples_1000.append(sample_cards(1000, 6, 3))\n",
    "\n",
    "for a in my_samples_1000:\n",
    "    min_sample_1000.append(np.min(a))\n",
    "\n",
    "parameter_alpha = 1\n",
    "parameter_beta = 19\n",
    "\n",
    "numb = np.linspace(0, 1, 1000)\n",
    "pdf = beta.pdf(numb, parameter_alpha, parameter_beta)\n",
    "\n",
    "plt.hist(np.array(min_sample_1000)/1000, density=True, bins=np.arange(0.005,1.005,1/100))\n",
    "plt.plot(numb, pdf, label=f'Beta({parameter_alpha}, {parameter_beta})')\n",
    "plt.xlim(0,1)\n",
    "plt.title('The Mind game - N=1,000')\n",
    "\n",
    "plt.show()"
   ]
  },
  {
   "cell_type": "code",
   "execution_count": null,
   "metadata": {},
   "outputs": [],
   "source": [
    "my_samples_100000 = []\n",
    "min_sample_100000 = []\n",
    "\n",
    "for a in range(1,100000): \n",
    "    my_samples_100000.append(sample_cards(100000, 6, 3))\n",
    "\n",
    "for a in my_samples_100000:\n",
    "    min_sample_100000.append(np.min(a))\n",
    "\n",
    "parameter_alpha = 1\n",
    "parameter_beta = 19\n",
    "\n",
    "numb = np.linspace(0, 1, 1000)\n",
    "pdf = beta.pdf(numb, parameter_alpha, parameter_beta)\n",
    "\n",
    "plt.hist(np.array(min_sample_100000)/100000, density=True, bins=np.arange(0.005,1.005,1/100))\n",
    "plt.plot(numb, pdf, label=f'Beta({parameter_alpha}, {parameter_beta})')\n",
    "plt.xlim(0,1)\n",
    "plt.title('The Mind game - N=100,000')\n",
    "\n",
    "plt.show()"
   ]
  },
  {
   "cell_type": "markdown",
   "metadata": {
    "user_expressions": []
   },
   "source": [
    "### Contribution statement\n",
    "\n",
    "Please include a list of the students you work with along this project (including yourself). Include both names and GitHub usernames of the people you collaborated with. Maximum of three persons per group. \n",
    "- Member No1: Ezequiel Yudka, ezequielyudka1997 \n",
    "- Member No2: Matt Dworkin, MatthewDworkin\n",
    "- Member No3: Maya Madhavan, maya-madhavan"
   ]
  },
  {
   "cell_type": "code",
   "execution_count": null,
   "metadata": {},
   "outputs": [],
   "source": []
  }
 ],
 "metadata": {
  "kernelspec": {
   "display_name": "Python 3",
   "language": "python",
   "name": "python3"
  },
  "language_info": {
   "codemirror_mode": {
    "name": "ipython",
    "version": 3
   },
   "file_extension": ".py",
   "mimetype": "text/x-python",
   "name": "python",
   "nbconvert_exporter": "python",
   "pygments_lexer": "ipython3",
   "version": "3.6.5"
  }
 },
 "nbformat": 4,
 "nbformat_minor": 5
}
